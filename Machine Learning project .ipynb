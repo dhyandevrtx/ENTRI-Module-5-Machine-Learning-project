{
 "cells": [
  {
   "cell_type": "markdown",
   "id": "74bd02ed-0c08-43fb-b348-9f043aad4e06",
   "metadata": {},
   "source": [
    "1. Loading and Preprocessing"
   ]
  },
  {
   "cell_type": "code",
   "execution_count": 62,
   "id": "e332975d-7f91-4662-b041-8f0777ccecc6",
   "metadata": {},
   "outputs": [],
   "source": [
    "import pandas as pd\n",
    "import numpy as np\n",
    "import seaborn as sns\n",
    "import matplotlib.pyplot as plt\n",
    "from sklearn.model_selection import train_test_split\n",
    "from sklearn.preprocessing import StandardScaler\n",
    "from sklearn.linear_model import LinearRegression\n",
    "from sklearn.tree import DecisionTreeRegressor\n",
    "from sklearn.ensemble import RandomForestRegressor, GradientBoostingRegressor\n",
    "from sklearn.svm import SVR\n",
    "from sklearn.metrics import mean_squared_error, mean_absolute_error, r2_score\n",
    "from sklearn.model_selection import GridSearchCV\n",
    "from sklearn.ensemble import StackingRegressor\n",
    "from sklearn.model_selection import cross_val_score\n",
    "from sklearn.linear_model import Ridge\n",
    "from sklearn.feature_selection import RFE"
   ]
  },
  {
   "cell_type": "code",
   "execution_count": 3,
   "id": "ba8f2a42-0254-4457-b509-f29a0ef14453",
   "metadata": {},
   "outputs": [],
   "source": [
    "# Load the dataset\n",
    "data = pd.read_csv('CarPrice_Assignment.csv')"
   ]
  },
  {
   "cell_type": "code",
   "execution_count": 4,
   "id": "9565735e-30e2-4eb2-9732-282c78b99d5d",
   "metadata": {},
   "outputs": [],
   "source": [
    "# Check for missing values\n",
    "data.isnull().sum()\n",
    "# Handle missing values\n",
    "data.fillna(data.mode(), inplace=True)\n",
    "# Encode categorical variables\n",
    "data = pd.get_dummies(data, drop_first=True)"
   ]
  },
  {
   "cell_type": "code",
   "execution_count": 5,
   "id": "17282b13-69af-4c12-9878-4a92c94076af",
   "metadata": {},
   "outputs": [],
   "source": [
    "# Feature scaling for models\n",
    "scaler = StandardScaler()\n",
    "scaled_features = scaler.fit_transform(data.drop('price', axis=1))\n",
    "# Split data into train and test sets\n",
    "X = scaled_features\n",
    "y = data['price']\n",
    "X_train, X_test, y_train, y_test = train_test_split(X, y, test_size=0.2, random_state=42)"
   ]
  },
  {
   "cell_type": "markdown",
   "id": "ef62e0ec-ffaf-4276-a3da-a80f50c183bf",
   "metadata": {},
   "source": [
    "2. Model Implementation "
   ]
  },
  {
   "cell_type": "code",
   "execution_count": 38,
   "id": "6b19d5c5-38e6-4777-ab78-741186bfb7cb",
   "metadata": {},
   "outputs": [
    {
     "name": "stdout",
     "output_type": "stream",
     "text": [
      "R-squared: -8.736195168857855e+24\n",
      "Mean Squared Error: 6.89670373819079e+32\n",
      "Mean Absolute Error: 1.3941693316408796e+16\n"
     ]
    }
   ],
   "source": [
    "data = data.dropna()  \n",
    "data = pd.get_dummies(data, drop_first=True) \n",
    "X = data.drop('price', axis=1)\n",
    "y = data['price']\n",
    "\n",
    "scaler = StandardScaler()\n",
    "X = scaler.fit_transform(X)\n",
    "\n",
    "X_train, X_test, y_train, y_test = train_test_split(X, y, test_size=0.2, random_state=42)\n",
    "\n",
    "lr_model = LinearRegression()\n",
    "lr_model.fit(X_train, y_train)\n",
    "\n",
    "y_pred = lr_model.predict(X_test)\n",
    "\n",
    "r2 = r2_score(y_test, y_pred)\n",
    "mse = mean_squared_error(y_test, y_pred)\n",
    "mae = mean_absolute_error(y_test, y_pred)\n",
    "\n",
    "print(\"R-squared:\", r2)\n",
    "print(\"Mean Squared Error:\", mse)\n",
    "print(\"Mean Absolute Error:\", mae)"
   ]
  },
  {
   "cell_type": "code",
   "execution_count": 42,
   "id": "230cb3fc-d207-4f91-9309-e3028d75c2ff",
   "metadata": {},
   "outputs": [],
   "source": [
    "X_train, X_test, y_train, y_test = train_test_split(X, y, test_size=0.2, random_state=42)"
   ]
  },
  {
   "cell_type": "code",
   "execution_count": 44,
   "id": "f41014a3-9352-42d0-a566-0c5e61330efe",
   "metadata": {},
   "outputs": [
    {
     "name": "stdout",
     "output_type": "stream",
     "text": [
      "R-squared: -8.736195168857855e+24\n",
      "Mean Squared Error (MSE): 6.89670373819079e+32\n",
      "Mean Absolute Error (MAE): 1.3941693316408796e+16\n"
     ]
    }
   ],
   "source": [
    "\n",
    "r2 = r2_score(y_test, y_pred)\n",
    "mse = mean_squared_error(y_test, y_pred)\n",
    "mae = mean_absolute_error(y_test, y_pred)\n",
    "\n",
    "print(f\"R-squared: {r2}\")\n",
    "print(f\"Mean Squared Error (MSE): {mse}\")\n",
    "print(f\"Mean Absolute Error (MAE): {mae}\")\n"
   ]
  },
  {
   "cell_type": "code",
   "execution_count": 48,
   "id": "82a732c7-050e-4267-911d-3ad65014213e",
   "metadata": {},
   "outputs": [
    {
     "name": "stdout",
     "output_type": "stream",
     "text": [
      "Fitting 5 folds for each of 36 candidates, totalling 180 fits\n",
      "Best Parameters: {'max_depth': 20, 'min_samples_split': 2, 'n_estimators': 50}\n",
      "Best R-squared: 0.8882233071411962\n"
     ]
    }
   ],
   "source": [
    "\n",
    "param_grid = {\n",
    "    'svr__C': [0.1, 1, 10, 100],\n",
    "    'svr__kernel': ['linear', 'poly', 'rbf', 'sigmoid'],\n",
    "    'svr__gamma': ['scale', 'auto'],\n",
    "    'svr__epsilon': [0.1, 0.2, 0.5]\n",
    "}\n",
    "grid_search.fit(X_train, y_train)\n",
    "\n",
    "print(\"Best Parameters:\", grid_search.best_params_)\n",
    "print(\"Best R-squared:\", grid_search.best_score_)"
   ]
  },
  {
   "cell_type": "code",
   "execution_count": 50,
   "id": "57fa531b-bb63-4e73-816a-f512501e4753",
   "metadata": {},
   "outputs": [
    {
     "name": "stdout",
     "output_type": "stream",
     "text": [
      "Tuned R-squared: 0.9477583704254859\n",
      "Tuned Mean Squared Error (MSE): 4124164.2959177815\n",
      "Tuned Mean Absolute Error (MAE): 1499.3005609756099\n"
     ]
    }
   ],
   "source": [
    "\n",
    "best_model = grid_search.best_estimator_\n",
    "\n",
    "y_pred_tuned = best_model.predict(X_test)\n",
    "\n",
    "r2_tuned = r2_score(y_test, y_pred_tuned)\n",
    "mse_tuned = mean_squared_error(y_test, y_pred_tuned)\n",
    "mae_tuned = mean_absolute_error(y_test, y_pred_tuned)\n",
    "\n",
    "print(f\"Tuned R-squared: {r2_tuned}\")\n",
    "print(f\"Tuned Mean Squared Error (MSE): {mse_tuned}\")\n",
    "print(f\"Tuned Mean Absolute Error (MAE): {mae_tuned}\")"
   ]
  },
  {
   "cell_type": "code",
   "execution_count": 52,
   "id": "89d67c90-2572-4603-b5e1-15bb53d30c92",
   "metadata": {},
   "outputs": [
    {
     "name": "stdout",
     "output_type": "stream",
     "text": [
      "R² Score: 0.9315610059339121\n",
      "Mean Squared Error: 5402849.37653601\n",
      "Mean Absolute Error: 1685.616427911343\n"
     ]
    }
   ],
   "source": [
    "X = data.drop(columns=['price'])  # Replace 'price' with your target variable\n",
    "y = data['price']\n",
    "\n",
    "X_train, X_test, y_train, y_test = train_test_split(X, y, test_size=0.2, random_state=42)\n",
    "\n",
    "gbr = GradientBoostingRegressor(random_state=42)\n",
    "gbr.fit(X_train, y_train)\n",
    "y_pred = gbr.predict(X_test)\n",
    "r2 = r2_score(y_test, y_pred)\n",
    "mse = mean_squared_error(y_test, y_pred)\n",
    "mae = mean_absolute_error(y_test, y_pred)\n",
    "\n",
    "print(f\"R² Score: {r2}\")\n",
    "print(f\"Mean Squared Error: {mse}\")\n",
    "print(f\"Mean Absolute Error: {mae}\")"
   ]
  },
  {
   "cell_type": "code",
   "execution_count": 54,
   "id": "d75d553a-4166-41f9-8a69-f0adb8f69a95",
   "metadata": {},
   "outputs": [
    {
     "name": "stdout",
     "output_type": "stream",
     "text": [
      "R²: 0.8665804146743344\n",
      "MSE: 10532678.52970461\n",
      "MAE: 2098.3089512195124\n"
     ]
    }
   ],
   "source": [
    "X = pd.get_dummies(X, drop_first=True)\n",
    "\n",
    "X_train, X_test, y_train, y_test = train_test_split(X, y, test_size=0.2, random_state=42)\n",
    "\n",
    "model = DecisionTreeRegressor(random_state=42)\n",
    "model.fit(X_train, y_train)\n",
    "\n",
    "y_pred = model.predict(X_test)\n",
    "\n",
    "r2 = r2_score(y_test, y_pred)\n",
    "mse = mean_squared_error(y_test, y_pred)\n",
    "mae = mean_absolute_error(y_test, y_pred)\n",
    "\n",
    "print(f\"R²: {r2}\")\n",
    "print(f\"MSE: {mse}\")\n",
    "print(f\"MAE: {mae}\")"
   ]
  },
  {
   "cell_type": "code",
   "execution_count": 56,
   "id": "aa99304b-b196-4dd7-9211-d5f865a27a72",
   "metadata": {},
   "outputs": [
    {
     "name": "stdout",
     "output_type": "stream",
     "text": [
      "Best Parameters: {'max_depth': 5, 'min_samples_leaf': 2, 'min_samples_split': 5}\n",
      "R² (Tuned): 0.8966339141732562\n"
     ]
    }
   ],
   "source": [
    "param_grid = {\n",
    "    'max_depth': [5, 10, 15, None],\n",
    "    'min_samples_split': [2, 5, 10],\n",
    "    'min_samples_leaf': [1, 2, 4],\n",
    "}\n",
    "\n",
    "grid_search = GridSearchCV(DecisionTreeRegressor(random_state=42), param_grid, cv=5, scoring='r2', n_jobs=-1)\n",
    "grid_search.fit(X_train, y_train)\n",
    "\n",
    "print(\"Best Parameters:\", grid_search.best_params_)\n",
    "\n",
    "best_model = grid_search.best_estimator_\n",
    "best_model.fit(X_train, y_train)\n",
    "\n",
    "y_pred_tuned = best_model.predict(X_test)\n",
    "r2_tuned = r2_score(y_test, y_pred_tuned)\n",
    "print(f\"R² (Tuned): {r2_tuned}\")\n"
   ]
  },
  {
   "cell_type": "code",
   "execution_count": 7,
   "id": "ab944124-b8b9-4e88-a569-72f837169653",
   "metadata": {},
   "outputs": [
    {
     "name": "stdout",
     "output_type": "stream",
     "text": [
      "                             R2           MSE           MAE\n",
      "Linear Regression -8.736195e+24  6.896704e+32  1.394169e+16\n",
      "Decision Tree      8.589395e-01  1.113588e+07  2.087211e+03\n",
      "Random Forest      9.534262e-01  3.676726e+06  1.388281e+03\n",
      "Gradient Boosting  9.335339e-01  5.247099e+06  1.632273e+03\n",
      "SVR               -1.020678e-01  8.700167e+07  5.707022e+03\n"
     ]
    }
   ],
   "source": [
    "# Initialize the models\n",
    "models = {\n",
    "    \"Linear Regression\": LinearRegression(),\n",
    "    \"Decision Tree\": DecisionTreeRegressor(),\n",
    "    \"Random Forest\": RandomForestRegressor(),\n",
    "    \"Gradient Boosting\": GradientBoostingRegressor(),\n",
    "    \"SVR\": SVR()\n",
    "}\n",
    "\n",
    "# Train and evaluate models\n",
    "results = {}\n",
    "for name, model in models.items():\n",
    "    model.fit(X_train, y_train)\n",
    "    y_pred = model.predict(X_test)\n",
    "    \n",
    "    # Calculate performance metrics\n",
    "    r2 = r2_score(y_test, y_pred)\n",
    "    mse = mean_squared_error(y_test, y_pred)\n",
    "    mae = mean_absolute_error(y_test, y_pred)\n",
    "    \n",
    "    results[name] = {\"R2\": r2, \"MSE\": mse, \"MAE\": mae}\n",
    "\n",
    "# Display results\n",
    "results_df = pd.DataFrame(results).T\n",
    "print(results_df)"
   ]
  },
  {
   "cell_type": "markdown",
   "id": "dd9bde8c-50a6-4f48-997a-eab6d6665fc8",
   "metadata": {},
   "source": [
    "3. Model Evaluation"
   ]
  },
  {
   "cell_type": "code",
   "execution_count": 9,
   "id": "dd4921f0-5e49-4983-98f5-02352b558abb",
   "metadata": {},
   "outputs": [],
   "source": [
    "for name, model in models.items():\n",
    "    # Train the model\n",
    "    model.fit(X_train, y_train)\n",
    "    \n",
    "    # Predict on the test set\n",
    "    y_pred = model.predict(X_test)"
   ]
  },
  {
   "cell_type": "code",
   "execution_count": 10,
   "id": "46c74f49-9162-4214-b907-596d1f2c0c6c",
   "metadata": {},
   "outputs": [
    {
     "name": "stdout",
     "output_type": "stream",
     "text": [
      "                             R2           MSE           MAE\n",
      "Linear Regression -8.736195e+24  6.896704e+32  1.394169e+16\n",
      "Decision Tree      8.589395e-01  1.113588e+07  2.087211e+03\n",
      "Random Forest      9.534262e-01  3.676726e+06  1.388281e+03\n",
      "Gradient Boosting  9.335339e-01  5.247099e+06  1.632273e+03\n",
      "SVR               -1.020678e-01  8.700167e+07  5.707022e+03\n"
     ]
    }
   ],
   "source": [
    "results_df = pd.DataFrame(results).T\n",
    "print(results_df)"
   ]
  },
  {
   "cell_type": "code",
   "execution_count": 11,
   "id": "5d3897e7-b1e4-4ac7-91f8-f72c1755a99a",
   "metadata": {},
   "outputs": [
    {
     "name": "stdout",
     "output_type": "stream",
     "text": [
      "Best Parameters: {'max_depth': 10, 'min_samples_leaf': 2, 'min_samples_split': 2, 'n_estimators': 300}\n",
      "Best Score: 0.885318187572721\n"
     ]
    }
   ],
   "source": [
    "# parameter grid\n",
    "param_grid = {\n",
    "    'n_estimators': [100, 200, 300],\n",
    "    'max_depth': [10, 20, None],\n",
    "    'min_samples_split': [2, 5, 10],\n",
    "    'min_samples_leaf': [1, 2, 4]\n",
    "}\n",
    "# GridSearchCV\n",
    "grid_search = GridSearchCV(RandomForestRegressor(random_state=42), param_grid, cv=5, scoring='r2', n_jobs=-1)\n",
    "grid_search.fit(X_train, y_train)\n",
    "\n",
    "# Best parameters and score\n",
    "print(\"Best Parameters:\", grid_search.best_params_)\n",
    "print(\"Best Score:\", grid_search.best_score_)"
   ]
  },
  {
   "cell_type": "code",
   "execution_count": 12,
   "id": "d65fcfb8-69ac-4bcf-baee-70d84eb58a8d",
   "metadata": {},
   "outputs": [],
   "source": [
    "estimators = [\n",
    "    ('lr', LinearRegression()),\n",
    "    ('rf', RandomForestRegressor(random_state=42)),\n",
    "    ('gbr', GradientBoostingRegressor(random_state=42))\n",
    "]\n",
    "stack_model = StackingRegressor(estimators=estimators, final_estimator=RandomForestRegressor())\n",
    "stack_model.fit(X_train, y_train)\n",
    "y_pred = stack_model.predict(X_test)"
   ]
  },
  {
   "cell_type": "code",
   "execution_count": 13,
   "id": "2ddcbbfd-9eec-4ddb-8269-c7354e0c1a57",
   "metadata": {},
   "outputs": [
    {
     "name": "stdout",
     "output_type": "stream",
     "text": [
      "Cross-Validation R2 Scores: [-0.12356917 -0.32140674 -0.06235181 -0.01934956 -0.50722123]\n",
      "Average R2 Score: -0.20677970190202774\n"
     ]
    }
   ],
   "source": [
    "scores = cross_val_score(model, X, y, cv=5, scoring='r2')\n",
    "print(\"Cross-Validation R2 Scores:\", scores)\n",
    "print(\"Average R2 Score:\", scores.mean())"
   ]
  },
  {
   "cell_type": "code",
   "execution_count": 15,
   "id": "2477fcc2-8f38-4488-9808-a48f91209a05",
   "metadata": {},
   "outputs": [
    {
     "data": {
      "image/png": "[encoded data removed]",
      "text/plain": [
       "<Figure size 640x480 with 1 Axes>"
      ]
     },
     "metadata": {},
     "output_type": "display_data"
    }
   ],
   "source": [
    "residuals = y_test - y_pred\n",
    "plt.scatter(y_test, residuals)\n",
    "plt.axhline(y=0, color='r', linestyle='--')\n",
    "plt.xlabel(\"Actual Prices\")\n",
    "plt.ylabel(\"Residuals\")\n",
    "plt.title(\"Residual Plot\")\n",
    "plt.show()"
   ]
  },
  {
   "cell_type": "markdown",
   "id": "9ba0f689-9e70-45c6-9c3f-7655ffa89f4b",
   "metadata": {},
   "source": [
    "4. Feature Importance Analysis"
   ]
  },
  {
   "cell_type": "code",
   "execution_count": 17,
   "id": "707f443e-57d5-417b-b664-83ef9949ad3b",
   "metadata": {},
   "outputs": [
    {
     "name": "stdout",
     "output_type": "stream",
     "text": [
      "                              Feature  Importance\n",
      "7                          enginesize    0.582417\n",
      "6                          curbweight    0.233147\n",
      "14                         highwaympg    0.073615\n",
      "11                         horsepower    0.021162\n",
      "4                            carwidth    0.016948\n",
      "..                                ...         ...\n",
      "131  CarName_toyota corolla 1600 (sw)    0.000000\n",
      "125            CarName_subaru tribeca    0.000000\n",
      "124             CarName_subaru trezia    0.000000\n",
      "123                 CarName_subaru r2    0.000000\n",
      "83          CarName_mitsubishi pajero    0.000000\n",
      "\n",
      "[190 rows x 2 columns]\n"
     ]
    }
   ],
   "source": [
    "# Feature using Random Forest Regressor\n",
    "rf_model = RandomForestRegressor()\n",
    "rf_model.fit(X_train, y_train)\n",
    "#feature importance\n",
    "importance = rf_model.feature_importances_\n",
    "\n",
    "# DataFrame\n",
    "feature_importance_df = pd.DataFrame({\n",
    "    \"Feature\": data.drop('price', axis=1).columns,\n",
    "    \"Importance\": importance\n",
    "}).sort_values(by=\"Importance\", ascending=False)\n",
    "\n",
    "print(feature_importance_df)\n"
   ]
  },
  {
   "cell_type": "markdown",
   "id": "66a9888f-9816-472a-93dd-d3ea00b29953",
   "metadata": {},
   "source": [
    "5. Hyperparameter Tuning "
   ]
  },
  {
   "cell_type": "code",
   "execution_count": 19,
   "id": "43f1841a-2be2-42e9-bc8b-bbe363c71d5d",
   "metadata": {},
   "outputs": [
    {
     "name": "stdout",
     "output_type": "stream",
     "text": [
      "Fitting 5 folds for each of 36 candidates, totalling 180 fits\n",
      "Best parameters: {'max_depth': 20, 'min_samples_split': 2, 'n_estimators': 100}\n",
      "Best score: 0.8858695795231553\n"
     ]
    }
   ],
   "source": [
    "#parameter grid Random Forest\n",
    "param_grid = {\n",
    "    'n_estimators': [50, 100, 200],\n",
    "    'max_depth': [None, 10, 20, 30],\n",
    "    'min_samples_split': [2, 5, 10]\n",
    "}\n",
    "\n",
    "grid_search = GridSearchCV(RandomForestRegressor(), param_grid, cv=5, n_jobs=-1, verbose=2)\n",
    "grid_search.fit(X_train, y_train)\n",
    "\n",
    "print(\"Best parameters:\", grid_search.best_params_)\n",
    "print(\"Best score:\", grid_search.best_score_)"
   ]
  },
  {
   "cell_type": "code",
   "execution_count": 64,
   "id": "ba91e180-25f6-42a5-a636-859aaa66ce6d",
   "metadata": {},
   "outputs": [
    {
     "name": "stdout",
     "output_type": "stream",
     "text": [
      "                             R2           MSE           MAE\n",
      "Linear Regression -8.736195e+24  6.896704e+32  1.394169e+16\n",
      "Decision Tree      8.589395e-01  1.113588e+07  2.087211e+03\n",
      "Random Forest      9.534262e-01  3.676726e+06  1.388281e+03\n",
      "Gradient Boosting  9.335339e-01  5.247099e+06  1.632273e+03\n",
      "SVR               -1.020678e-01  8.700167e+07  5.707022e+03\n"
     ]
    }
   ],
   "source": [
    "print(results_df)"
   ]
  },
  {
   "cell_type": "code",
   "execution_count": null,
   "id": "239d5900-614b-4352-ba7c-9f2c33e2c99c",
   "metadata": {},
   "outputs": [],
   "source": []
  }
 ],
 "metadata": {
  "kernelspec": {
   "display_name": "Python 3 (ipykernel)",
   "language": "python",
   "name": "python3"
  },
  "language_info": {
   "codemirror_mode": {
    "name": "ipython",
    "version": 3
   },
   "file_extension": ".py",
   "mimetype": "text/x-python",
   "name": "python",
   "nbconvert_exporter": "python",
   "pygments_lexer": "ipython3",
   "version": "3.12.4"
  }
 },
 "nbformat": 4,
 "nbformat_minor": 5
}
